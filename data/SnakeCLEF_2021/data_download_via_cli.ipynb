{
 "cells": [
  {
   "cell_type": "code",
   "execution_count": null,
   "metadata": {},
   "outputs": [],
   "source": [
    "!pip install -U aicrowd-cli==0.1 > /dev/null"
   ]
  },
  {
   "cell_type": "code",
   "execution_count": null,
   "metadata": {},
   "outputs": [],
   "source": [
    "# Get your API key from https://www.aicrowd.com/participants/me\n",
    "API_KEY = \"af69e538*****************f517d\"\n",
    "!aicrowd login --api-key $API_KEY"
   ]
  },
  {
   "cell_type": "code",
   "execution_count": null,
   "metadata": {},
   "outputs": [],
   "source": [
    "!aicrowd dataset list --challenge snakeclef2021-snake-species-identification-challenge"
   ]
  },
  {
   "cell_type": "code",
   "execution_count": null,
   "metadata": {},
   "outputs": [],
   "source": [
    "# Download file at index=0 (or multiple indexes)\n",
    "!aicrowd dataset download --challenge snakeclef2021-snake-species-identification-challenge \"SnakeCLEF2021 - MinTrain Metadata\"\n",
    "!mv *SnakeCLEF2021_min-train_metadata_PROD.csv \"SnakeCLEF2021_min-train_metadata_PROD.csv\"\n",
    "!aicrowd dataset download --challenge snakeclef2021-snake-species-identification-challenge \"SnakeCLEF2021 - TrainVal Metadata\"\n",
    "!mv *SnakeCLEF2021_train_metadata_PROD.csv \"SnakeCLEF2021_train_metadata_PROD.csv\""
   ]
  }
 ],
 "metadata": {
  "kernelspec": {
   "display_name": "Python 3",
   "language": "python",
   "name": "python3"
  },
  "language_info": {
   "codemirror_mode": {
    "name": "ipython",
    "version": 3
   },
   "file_extension": ".py",
   "mimetype": "text/x-python",
   "name": "python",
   "nbconvert_exporter": "python",
   "pygments_lexer": "ipython3",
   "version": "3.11.4"
  }
 },
 "nbformat": 4,
 "nbformat_minor": 2
}
